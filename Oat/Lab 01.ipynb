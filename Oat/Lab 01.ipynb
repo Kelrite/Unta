{
 "cells": [
  {
   "cell_type": "code",
   "execution_count": null,
   "metadata": {},
   "outputs": [],
   "source": [
    "import pandas, warnings\n",
    "\n",
    "import matplotlib.pyplot as plt\n",
    "\n",
    "warnings.filterwarnings(\"ignore\")\n",
    "\n",
    "plt.style.use(\"seaborn-whitegrid\")\n",
    "\n",
    "reader = lambda url, **multiargs : pandas.read_table(url, sep=\",\", **multiargs)\n",
    "\n",
    "url = \"/content/online_retail.csv\"\n",
    "\n",
    "origin = reader(url)\n",
    "\n",
    "origin.iloc[:5, :6]"
   ]
  }
 ],
 "metadata": {
  "language_info": {
   "name": "python"
  }
 },
 "nbformat": 4,
 "nbformat_minor": 2
}
