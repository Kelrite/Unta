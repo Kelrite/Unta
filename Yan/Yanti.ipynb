{
  "nbformat": 4,
  "nbformat_minor": 0,
  "metadata": {
    "colab": {
      "provenance": [],
      "authorship_tag": "ABX9TyPZXUnzmZmfGyikB69sGyHh"
    },
    "kernelspec": {
      "name": "python3",
      "display_name": "Python 3"
    },
    "language_info": {
      "name": "python"
    }
  },
  "cells": [
    {
      "cell_type": "code",
      "execution_count": 1,
      "metadata": {
        "id": "B70Mq3-PLFUV"
      },
      "outputs": [],
      "source": [
        "import requests, urllib\n",
        "\n",
        "mrturl = \"https://jakartamrt.co.id/id/val/stasiuns\"\n",
        "\n",
        "opener = requests.get(mrturl)\n",
        "\n",
        "opener = opener.json()"
      ]
    },
    {
      "cell_type": "code",
      "source": [
        "urler = \"https://raw.githubusercontent.com/Kelrite/Air/master/Yan/Helper.py\"\n",
        "\n",
        "urllib.request.urlretrieve(urler, \"utili.py\")"
      ],
      "metadata": {
        "colab": {
          "base_uri": "https://localhost:8080/"
        },
        "id": "ul9bgDh4LKEK",
        "outputId": "37e09310-e3c2-4a7f-990c-340433286fb3"
      },
      "execution_count": 2,
      "outputs": [
        {
          "output_type": "execute_result",
          "data": {
            "text/plain": [
              "('utili.py', <http.client.HTTPMessage at 0x7d8a9817e650>)"
            ]
          },
          "metadata": {},
          "execution_count": 2
        }
      ]
    },
    {
      "cell_type": "code",
      "source": [
        "import utili\n",
        "\n",
        "total = len(opener); total"
      ],
      "metadata": {
        "colab": {
          "base_uri": "https://localhost:8080/"
        },
        "id": "U3bKw58VLMZQ",
        "outputId": "87e4b557-ad4c-4359-e876-45dee4efd4df"
      },
      "execution_count": 3,
      "outputs": [
        {
          "output_type": "execute_result",
          "data": {
            "text/plain": [
              "13"
            ]
          },
          "metadata": {},
          "execution_count": 3
        }
      ]
    },
    {
      "cell_type": "code",
      "source": [
        "sample = opener[8]\n",
        "\n",
        "unlock = list(sample.keys())\n",
        "\n",
        "unlock[:7]"
      ],
      "metadata": {
        "colab": {
          "base_uri": "https://localhost:8080/"
        },
        "id": "9i1o5GwaQyw7",
        "outputId": "3c3ba0e0-71ec-44df-96b1-7e2ba9c2ed75"
      },
      "execution_count": 4,
      "outputs": [
        {
          "output_type": "execute_result",
          "data": {
            "text/plain": [
              "['nid', 'title', 'urutan', 'isbig', 'path', 'catatan', 'antarmodas']"
            ]
          },
          "metadata": {},
          "execution_count": 4
        }
      ]
    },
    {
      "cell_type": "code",
      "source": [
        "unlock[7:11]"
      ],
      "metadata": {
        "colab": {
          "base_uri": "https://localhost:8080/"
        },
        "id": "RNWjSNhuQ6Lt",
        "outputId": "dcacb108-8955-4b42-e2eb-cf6742047171"
      },
      "execution_count": 5,
      "outputs": [
        {
          "output_type": "execute_result",
          "data": {
            "text/plain": [
              "['peta_lokalitas', 'jadwal_lb_biasa', 'jadwal_lb_libur', 'jadwal_hi_biasa']"
            ]
          },
          "metadata": {},
          "execution_count": 5
        }
      ]
    },
    {
      "cell_type": "code",
      "source": [
        "unlock[11:]"
      ],
      "metadata": {
        "colab": {
          "base_uri": "https://localhost:8080/"
        },
        "id": "hJXhyOQxQ8B7",
        "outputId": "4d9d80e1-c33d-4879-fd6e-3797b290852d"
      },
      "execution_count": 6,
      "outputs": [
        {
          "output_type": "execute_result",
          "data": {
            "text/plain": [
              "['jadwal_hi_libur', 'banner', 'retails', 'estimasi', 'fasilitas']"
            ]
          },
          "metadata": {},
          "execution_count": 6
        }
      ]
    },
    {
      "cell_type": "markdown",
      "source": [
        "#### ```1```"
      ],
      "metadata": {
        "id": "0A2-42CCLSIm"
      }
    },
    {
      "cell_type": "code",
      "source": [
        "outsize = [int(opener[i][\"isbig\"]) for i in range(total)]\n",
        "\n",
        "outsize = sum(outsize)\n",
        "\n",
        "outsize"
      ],
      "metadata": {
        "colab": {
          "base_uri": "https://localhost:8080/"
        },
        "id": "a1UK3-6yLWZ5",
        "outputId": "9c86c800-52df-4f33-b619-f030f972e90f"
      },
      "execution_count": 7,
      "outputs": [
        {
          "output_type": "execute_result",
          "data": {
            "text/plain": [
              "3"
            ]
          },
          "metadata": {},
          "execution_count": 7
        }
      ]
    },
    {
      "cell_type": "markdown",
      "source": [
        "#### ```X - How Many Modes of Transportation Pass Through This Station?```"
      ],
      "metadata": {
        "id": "cRrPn_z_LYBm"
      }
    },
    {
      "cell_type": "code",
      "source": [
        "totalmodas = {}\n",
        "\n",
        "for i in range(total):\n",
        "\n",
        "  stat = opener[i][\"title\"]\n",
        "\n",
        "  totil = utili.motol(opener[i][\"antarmodas\"])[1]\n",
        "\n",
        "  totalmodas[stat] = totil\n",
        "\n",
        "totalmodas = utili.urutan(totalmodas)\n",
        "\n",
        "utili.limite(totalmodas, 1)"
      ],
      "metadata": {
        "colab": {
          "base_uri": "https://localhost:8080/"
        },
        "id": "EKtYq6T5Lf_x",
        "outputId": "b2ade9f3-8c5d-47fe-8686-8356709a82e6"
      },
      "execution_count": 8,
      "outputs": [
        {
          "output_type": "execute_result",
          "data": {
            "text/plain": [
              "{'Stasiun Blok M BCA': 81}"
            ]
          },
          "metadata": {},
          "execution_count": 8
        }
      ]
    },
    {
      "cell_type": "markdown",
      "source": [
        "#### ```X - How Many Transportation Pass Through This Station?```"
      ],
      "metadata": {
        "id": "TZZYHlWUNwlb"
      }
    },
    {
      "cell_type": "code",
      "source": [
        "totaler = {}\n",
        "\n",
        "for i in range(total):\n",
        "\n",
        "  stat = opener[i][\"title\"]\n",
        "\n",
        "  totil = utili.motol(opener[i][\"antarmodas\"])[0]\n",
        "\n",
        "  totaler[stat] = len(totil)\n",
        "\n",
        "totaler = utili.urutan(totaler)\n",
        "\n",
        "utili.limite(totaler, 1)"
      ],
      "metadata": {
        "colab": {
          "base_uri": "https://localhost:8080/"
        },
        "id": "unGVDf3fNz4d",
        "outputId": "a2137405-e9e6-444d-9626-7628c61210f3"
      },
      "execution_count": 9,
      "outputs": [
        {
          "output_type": "execute_result",
          "data": {
            "text/plain": [
              "{'Stasiun Senayan Mastercard': 16}"
            ]
          },
          "metadata": {},
          "execution_count": 9
        }
      ]
    },
    {
      "cell_type": "markdown",
      "source": [
        "#### ```X - Minimum Total Transportation Available and Which Statiun```"
      ],
      "metadata": {
        "id": "_lqC2nycOHDa"
      }
    },
    {
      "cell_type": "code",
      "source": [
        "totali = list(totaler.values())\n",
        "\n",
        "min(totali)"
      ],
      "metadata": {
        "colab": {
          "base_uri": "https://localhost:8080/"
        },
        "id": "rsMVputnOlWj",
        "outputId": "5578cbfc-c898-4edb-83b6-95c05623a85e"
      },
      "execution_count": 10,
      "outputs": [
        {
          "output_type": "execute_result",
          "data": {
            "text/plain": [
              "0"
            ]
          },
          "metadata": {},
          "execution_count": 10
        }
      ]
    },
    {
      "cell_type": "code",
      "source": [
        "lower = [i for i, j in totaler.items() if j == min(totali)]\n",
        "\n",
        "lower = \", \".join(lower)\n",
        "\n",
        "lower"
      ],
      "metadata": {
        "colab": {
          "base_uri": "https://localhost:8080/",
          "height": 35
        },
        "id": "_z8y-nlnPMiw",
        "outputId": "e58e9c12-3040-4bea-ef65-c232cbd08750"
      },
      "execution_count": 11,
      "outputs": [
        {
          "output_type": "execute_result",
          "data": {
            "text/plain": [
              "'Stasiun Cipete Raya, Stasiun Haji Nawi'"
            ],
            "application/vnd.google.colaboratory.intrinsic+json": {
              "type": "string"
            }
          },
          "metadata": {},
          "execution_count": 11
        }
      ]
    },
    {
      "cell_type": "markdown",
      "source": [
        "#### ```X - Maximum Total Transportation Available and Which Statiun```"
      ],
      "metadata": {
        "id": "k2TlEPUJOf7R"
      }
    },
    {
      "cell_type": "code",
      "source": [
        "totali = list(totaler.values())\n",
        "\n",
        "max(totali)"
      ],
      "metadata": {
        "colab": {
          "base_uri": "https://localhost:8080/"
        },
        "id": "8E5MNX1xPJqr",
        "outputId": "a4509325-9aa2-4151-92d2-b2d49a1c1195"
      },
      "execution_count": 12,
      "outputs": [
        {
          "output_type": "execute_result",
          "data": {
            "text/plain": [
              "16"
            ]
          },
          "metadata": {},
          "execution_count": 12
        }
      ]
    },
    {
      "cell_type": "code",
      "source": [
        "upper = [i for i, j in totaler.items() if j == max(totali)]\n",
        "\n",
        "maxer = upper[:3]\n",
        "\n",
        "result = \", \".join(maxer)\n",
        "\n",
        "result"
      ],
      "metadata": {
        "colab": {
          "base_uri": "https://localhost:8080/",
          "height": 35
        },
        "id": "5fCerFr4PXE2",
        "outputId": "fd6a68ba-91d5-4537-f696-5769a0ffb251"
      },
      "execution_count": 13,
      "outputs": [
        {
          "output_type": "execute_result",
          "data": {
            "text/plain": [
              "'Stasiun Senayan Mastercard, Stasiun Istora Mandiri, Stasiun Bendungan Hilir'"
            ],
            "application/vnd.google.colaboratory.intrinsic+json": {
              "type": "string"
            }
          },
          "metadata": {},
          "execution_count": 13
        }
      ]
    },
    {
      "cell_type": "code",
      "source": [
        "maxer = upper[3:]\n",
        "\n",
        "result = \", \".join(maxer)\n",
        "\n",
        "result"
      ],
      "metadata": {
        "colab": {
          "base_uri": "https://localhost:8080/",
          "height": 35
        },
        "id": "-8xMYGB1PciN",
        "outputId": "36d7842c-a574-4c13-b3d9-94a26614bd83"
      },
      "execution_count": 14,
      "outputs": [
        {
          "output_type": "execute_result",
          "data": {
            "text/plain": [
              "'Stasiun Setiabudi Astra, Stasiun Dukuh Atas BNI, Stasiun Bundaran HI'"
            ],
            "application/vnd.google.colaboratory.intrinsic+json": {
              "type": "string"
            }
          },
          "metadata": {},
          "execution_count": 14
        }
      ]
    }
  ]
}