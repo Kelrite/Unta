{
  "cells": [
    {
      "cell_type": "code",
      "execution_count": 1,
      "metadata": {
        "id": "64e4NfsqCYMy"
      },
      "outputs": [],
      "source": [
        "import requests, urllib\n",
        "\n",
        "mrturl = \"https://jakartamrt.co.id/id/val/stasiuns\"\n",
        "\n",
        "opener = requests.get(mrturl)\n",
        "\n",
        "opener = opener.json()"
      ]
    },
    {
      "cell_type": "code",
      "execution_count": null,
      "metadata": {
        "id": "TWcDpSQ4Ldg1"
      },
      "outputs": [],
      "source": [
        "urler = \"https://raw.githubusercontent.com/Kelrite/Air/master/Yan/Helper.py\"\n",
        "\n",
        "urllib.request.urlretrieve(urler, \"utili.py\")"
      ]
    },
    {
      "cell_type": "code",
      "execution_count": 3,
      "metadata": {
        "colab": {
          "base_uri": "https://localhost:8080/"
        },
        "id": "O9Lc6Y-8FzrC",
        "outputId": "356db99d-751a-4a24-8242-27e6001741ca"
      },
      "outputs": [
        {
          "output_type": "execute_result",
          "data": {
            "text/plain": [
              "13"
            ]
          },
          "metadata": {},
          "execution_count": 3
        }
      ],
      "source": [
        "import utili\n",
        "\n",
        "total = len(opener)\n",
        "\n",
        "total"
      ]
    },
    {
      "cell_type": "code",
      "execution_count": 4,
      "metadata": {
        "colab": {
          "base_uri": "https://localhost:8080/"
        },
        "id": "-hhbc3HDF58A",
        "outputId": "32919e90-820c-4d17-d9d9-a1d862c29484"
      },
      "outputs": [
        {
          "output_type": "execute_result",
          "data": {
            "text/plain": [
              "['nid', 'title', 'urutan', 'isbig', 'path', 'catatan', 'antarmodas']"
            ]
          },
          "metadata": {},
          "execution_count": 4
        }
      ],
      "source": [
        "sample = opener[8]\n",
        "\n",
        "unlock = list(sample.keys())\n",
        "\n",
        "unlock[:7]"
      ]
    },
    {
      "cell_type": "code",
      "execution_count": 5,
      "metadata": {
        "colab": {
          "base_uri": "https://localhost:8080/"
        },
        "id": "_3pmlwWCGAhj",
        "outputId": "29c9281a-db6e-4301-b6de-83c910013e39"
      },
      "outputs": [
        {
          "output_type": "execute_result",
          "data": {
            "text/plain": [
              "['peta_lokalitas', 'jadwal_lb_biasa', 'jadwal_lb_libur', 'jadwal_hi_biasa']"
            ]
          },
          "metadata": {},
          "execution_count": 5
        }
      ],
      "source": [
        "unlock[7:11]"
      ]
    },
    {
      "cell_type": "code",
      "execution_count": 6,
      "metadata": {
        "colab": {
          "base_uri": "https://localhost:8080/"
        },
        "id": "coSIduQRGBus",
        "outputId": "09d9f4cb-78c0-4472-c00f-88090a114e8b"
      },
      "outputs": [
        {
          "output_type": "execute_result",
          "data": {
            "text/plain": [
              "['jadwal_hi_libur', 'banner', 'retails', 'estimasi', 'fasilitas']"
            ]
          },
          "metadata": {},
          "execution_count": 6
        }
      ],
      "source": [
        "unlock[11:]"
      ]
    },
    {
      "cell_type": "code",
      "execution_count": 7,
      "metadata": {
        "colab": {
          "base_uri": "https://localhost:8080/",
          "height": 36
        },
        "id": "MeFXjLIDH_mR",
        "outputId": "97211943-75dd-4c38-c7ca-30063ed7e36f"
      },
      "outputs": [
        {
          "output_type": "execute_result",
          "data": {
            "text/plain": [
              "'Stasiun Istora Mandiri'"
            ],
            "application/vnd.google.colaboratory.intrinsic+json": {
              "type": "string"
            }
          },
          "metadata": {},
          "execution_count": 7
        }
      ],
      "source": [
        "title = sample[\"title\"]\n",
        "\n",
        "title"
      ]
    },
    {
      "cell_type": "code",
      "execution_count": 8,
      "metadata": {
        "colab": {
          "base_uri": "https://localhost:8080/"
        },
        "id": "0pEvg766IMPv",
        "outputId": "28040ca2-0b95-4da2-c97f-a43290ad87ea"
      },
      "outputs": [
        {
          "output_type": "execute_result",
          "data": {
            "text/plain": [
              "3"
            ]
          },
          "metadata": {},
          "execution_count": 8
        }
      ],
      "source": [
        "outsize = [int(opener[i][\"isbig\"]) for i in range(total)]\n",
        "\n",
        "outsize = sum(outsize)\n",
        "\n",
        "outsize"
      ]
    },
    {
      "cell_type": "markdown",
      "metadata": {
        "id": "bm7zbGfo-S_d"
      },
      "source": [
        "```Mota```"
      ]
    },
    {
      "cell_type": "code",
      "execution_count": 9,
      "metadata": {
        "colab": {
          "base_uri": "https://localhost:8080/"
        },
        "id": "Yp1FY_fK_LwA",
        "outputId": "44a8b9de-a3b5-4385-dbd4-bef51b955b44"
      },
      "outputs": [
        {
          "output_type": "execute_result",
          "data": {
            "text/plain": [
              "str"
            ]
          },
          "metadata": {},
          "execution_count": 9
        }
      ],
      "source": [
        "type(sample[\"antarmodas\"])"
      ]
    },
    {
      "cell_type": "code",
      "execution_count": 10,
      "metadata": {
        "colab": {
          "base_uri": "https://localhost:8080/",
          "height": 36
        },
        "id": "w5W1tBG7_1mj",
        "outputId": "9f3fb731-ee12-4d48-eb3f-af5913ccc9fe"
      },
      "outputs": [
        {
          "output_type": "execute_result",
          "data": {
            "text/plain": [
              "'Transjakarta Koridor 1, 4C, 6M, 9C, T11, S21, BW4, GR1'"
            ],
            "application/vnd.google.colaboratory.intrinsic+json": {
              "type": "string"
            }
          },
          "metadata": {},
          "execution_count": 10
        }
      ],
      "source": [
        "mota = utili.ansplit(sample[\"antarmodas\"])\n",
        "\n",
        "mota[0]"
      ]
    },
    {
      "cell_type": "code",
      "execution_count": 11,
      "metadata": {
        "colab": {
          "base_uri": "https://localhost:8080/",
          "height": 36
        },
        "id": "6jjsOmxODTaJ",
        "outputId": "e4a6f65f-673a-4473-d79c-eb90b245eddc"
      },
      "outputs": [
        {
          "output_type": "execute_result",
          "data": {
            "text/plain": [
              "'Metromini P15, S640'"
            ],
            "application/vnd.google.colaboratory.intrinsic+json": {
              "type": "string"
            }
          },
          "metadata": {},
          "execution_count": 11
        }
      ],
      "source": [
        "mota[1]"
      ]
    },
    {
      "cell_type": "code",
      "execution_count": 12,
      "metadata": {
        "colab": {
          "base_uri": "https://localhost:8080/",
          "height": 36
        },
        "id": "xMIcrMCbDUmU",
        "outputId": "eb01efc4-ac58-464a-c1cf-991d3f7eab37"
      },
      "outputs": [
        {
          "output_type": "execute_result",
          "data": {
            "text/plain": [
              "'APB JP03A'"
            ],
            "application/vnd.google.colaboratory.intrinsic+json": {
              "type": "string"
            }
          },
          "metadata": {},
          "execution_count": 12
        }
      ],
      "source": [
        "mota[2]"
      ]
    },
    {
      "cell_type": "code",
      "execution_count": 13,
      "metadata": {
        "colab": {
          "base_uri": "https://localhost:8080/",
          "height": 36
        },
        "id": "x-tdNmwxAIvj",
        "outputId": "b73bc8c7-3cfd-48aa-8080-29e2d4397c4a"
      },
      "outputs": [
        {
          "output_type": "execute_result",
          "data": {
            "text/plain": [
              "'Transjakarta'"
            ],
            "application/vnd.google.colaboratory.intrinsic+json": {
              "type": "string"
            }
          },
          "metadata": {},
          "execution_count": 13
        }
      ],
      "source": [
        "moti = utili.titler(mota)\n",
        "\n",
        "moti = utili.replator(moti)\n",
        "\n",
        "moti[0]"
      ]
    },
    {
      "cell_type": "code",
      "source": [
        "moti[1:3]"
      ],
      "metadata": {
        "colab": {
          "base_uri": "https://localhost:8080/"
        },
        "id": "PpgkN6hI-JwW",
        "outputId": "d3538c39-8b00-465a-9082-1fd5cacbe637"
      },
      "execution_count": 14,
      "outputs": [
        {
          "output_type": "execute_result",
          "data": {
            "text/plain": [
              "['Metromini', 'APB']"
            ]
          },
          "metadata": {},
          "execution_count": 14
        }
      ]
    },
    {
      "cell_type": "code",
      "source": [
        "moti[3:6]"
      ],
      "metadata": {
        "colab": {
          "base_uri": "https://localhost:8080/"
        },
        "id": "LbLzoooU-ajX",
        "outputId": "649ef1cc-5c50-4295-f1ae-275181c7bbac"
      },
      "execution_count": 15,
      "outputs": [
        {
          "output_type": "execute_result",
          "data": {
            "text/plain": [
              "['PPD', 'Kopaja', 'Mayasari Bakti']"
            ]
          },
          "metadata": {},
          "execution_count": 15
        }
      ]
    },
    {
      "cell_type": "code",
      "execution_count": 16,
      "metadata": {
        "colab": {
          "base_uri": "https://localhost:8080/"
        },
        "id": "g-qJtT3qDAPE",
        "outputId": "a90d0d9d-d85e-4458-c2fb-4948190e7ac0"
      },
      "outputs": [
        {
          "output_type": "execute_result",
          "data": {
            "text/plain": [
              "{'Transjakarta': 8, 'Metromini': 2, 'APB': 1}"
            ]
          },
          "metadata": {},
          "execution_count": 16
        }
      ],
      "source": [
        "singleti = {moti[i]: len(mota[i].split(\",\")) for i in range(len(moti))}\n",
        "\n",
        "utili.limite(singleti, 3)"
      ]
    },
    {
      "cell_type": "code",
      "execution_count": 17,
      "metadata": {
        "colab": {
          "base_uri": "https://localhost:8080/"
        },
        "id": "noCXOD3NHduF",
        "outputId": "ce6ba669-4e86-4998-a250-1d68994bea7b"
      },
      "outputs": [
        {
          "output_type": "execute_result",
          "data": {
            "text/plain": [
              "16"
            ]
          },
          "metadata": {},
          "execution_count": 17
        }
      ],
      "source": [
        "len(singleti.keys())"
      ]
    },
    {
      "cell_type": "code",
      "execution_count": 18,
      "metadata": {
        "colab": {
          "base_uri": "https://localhost:8080/"
        },
        "id": "6xdMx7lxEMcQ",
        "outputId": "d9491956-0b80-4c10-9262-6c1e37e86107"
      },
      "outputs": [
        {
          "output_type": "execute_result",
          "data": {
            "text/plain": [
              "52"
            ]
          },
          "metadata": {},
          "execution_count": 18
        }
      ],
      "source": [
        "sum(singleti.values())"
      ]
    },
    {
      "cell_type": "code",
      "source": [
        "tester = opener[5][\"antarmodas\"]\n",
        "\n",
        "type(tester)"
      ],
      "metadata": {
        "colab": {
          "base_uri": "https://localhost:8080/"
        },
        "id": "AcnpNAfme_DK",
        "outputId": "b2bd6156-1954-4f1c-916e-6fd5a96c5fa9"
      },
      "execution_count": 19,
      "outputs": [
        {
          "output_type": "execute_result",
          "data": {
            "text/plain": [
              "str"
            ]
          },
          "metadata": {},
          "execution_count": 19
        }
      ]
    },
    {
      "cell_type": "code",
      "source": [
        "mota = utili.ansplit(tester)\n",
        "\n",
        "len(mota)"
      ],
      "metadata": {
        "colab": {
          "base_uri": "https://localhost:8080/"
        },
        "id": "Vquit38BfTG4",
        "outputId": "bfc36e58-3973-4ec2-8269-14639b5b2595"
      },
      "execution_count": 20,
      "outputs": [
        {
          "output_type": "execute_result",
          "data": {
            "text/plain": [
              "15"
            ]
          },
          "metadata": {},
          "execution_count": 20
        }
      ]
    },
    {
      "cell_type": "code",
      "source": [
        "mota[0]"
      ],
      "metadata": {
        "colab": {
          "base_uri": "https://localhost:8080/",
          "height": 36
        },
        "id": "mVGaluSJgVnW",
        "outputId": "ed95a1ff-ab3c-4036-db71-8366434afccd"
      },
      "execution_count": 21,
      "outputs": [
        {
          "output_type": "execute_result",
          "data": {
            "text/plain": [
              "'Transjakarta Koridor 1, 1C, 6M, 7B, S21, S22'"
            ],
            "application/vnd.google.colaboratory.intrinsic+json": {
              "type": "string"
            }
          },
          "metadata": {},
          "execution_count": 21
        }
      ]
    },
    {
      "cell_type": "code",
      "source": [
        "mota[1]"
      ],
      "metadata": {
        "colab": {
          "base_uri": "https://localhost:8080/",
          "height": 36
        },
        "id": "O67axGI9fVKs",
        "outputId": "0d2064f1-3866-413d-e0a6-8b0fab5f7774"
      },
      "execution_count": 22,
      "outputs": [
        {
          "output_type": "execute_result",
          "data": {
            "text/plain": [
              "'Metromini S69, S70, S71, S74,S75,S77, S78, S610, S611, S619'"
            ],
            "application/vnd.google.colaboratory.intrinsic+json": {
              "type": "string"
            }
          },
          "metadata": {},
          "execution_count": 22
        }
      ]
    },
    {
      "cell_type": "code",
      "source": [
        "moti = utili.titler(mota)\n",
        "\n",
        "moti = utili.replator(moti)\n",
        "\n",
        "moti[:5]"
      ],
      "metadata": {
        "colab": {
          "base_uri": "https://localhost:8080/"
        },
        "id": "3vWVgXmnfZfC",
        "outputId": "356dca5f-e78e-4a82-db1f-6266cd65f734"
      },
      "execution_count": 23,
      "outputs": [
        {
          "output_type": "execute_result",
          "data": {
            "text/plain": [
              "['Transjakarta', 'Metromini', 'PPD', 'Kopaja', 'Mayasari Bakti']"
            ]
          },
          "metadata": {},
          "execution_count": 23
        }
      ]
    },
    {
      "cell_type": "code",
      "source": [
        "len(moti)"
      ],
      "metadata": {
        "colab": {
          "base_uri": "https://localhost:8080/"
        },
        "id": "D--hdtZHf9Cq",
        "outputId": "0776e470-f038-4b22-972c-e7ba845d509a"
      },
      "execution_count": 24,
      "outputs": [
        {
          "output_type": "execute_result",
          "data": {
            "text/plain": [
              "15"
            ]
          },
          "metadata": {},
          "execution_count": 24
        }
      ]
    },
    {
      "cell_type": "code",
      "source": [
        "singleti = {moti[i]: len(mota[i].split(\",\")) for i in range(len(moti))}\n",
        "\n",
        "utili.limite(singleti, 3)"
      ],
      "metadata": {
        "colab": {
          "base_uri": "https://localhost:8080/"
        },
        "id": "tZyGbkOVgB7e",
        "outputId": "f8c984ad-abeb-4d2e-93ca-10e66fa5a248"
      },
      "execution_count": 25,
      "outputs": [
        {
          "output_type": "execute_result",
          "data": {
            "text/plain": [
              "{'Transjakarta': 6, 'Metromini': 10, 'PPD': 16}"
            ]
          },
          "metadata": {},
          "execution_count": 25
        }
      ]
    },
    {
      "cell_type": "code",
      "source": [
        "sum(singleti.values())"
      ],
      "metadata": {
        "colab": {
          "base_uri": "https://localhost:8080/"
        },
        "id": "dUvIb5GGgKIH",
        "outputId": "9f093dfc-61ff-4b98-e589-eb868f9cc768"
      },
      "execution_count": 26,
      "outputs": [
        {
          "output_type": "execute_result",
          "data": {
            "text/plain": [
              "81"
            ]
          },
          "metadata": {},
          "execution_count": 26
        }
      ]
    },
    {
      "cell_type": "code",
      "source": [
        "totalstat = {\n",
        "  opener[i][\"title\"] : len(utili.ansplit(opener[i][\"antarmodas\"]))\n",
        "  for i in range(total)\n",
        "}\n",
        "\n",
        "utili.limite(totalstat, 1)"
      ],
      "metadata": {
        "colab": {
          "base_uri": "https://localhost:8080/"
        },
        "id": "6A54VLvWgZWq",
        "outputId": "0bd3fba7-c45d-4473-fedd-35f1c176f447"
      },
      "execution_count": 27,
      "outputs": [
        {
          "output_type": "execute_result",
          "data": {
            "text/plain": [
              "{'Stasiun Lebak Bulus Grab': 2}"
            ]
          },
          "metadata": {},
          "execution_count": 27
        }
      ]
    },
    {
      "cell_type": "code",
      "source": [
        "null = [i for i, j in totalstat.items() if j == 0]\n",
        "\n",
        "null"
      ],
      "metadata": {
        "colab": {
          "base_uri": "https://localhost:8080/"
        },
        "id": "MpcdoI3IhEj0",
        "outputId": "53428e89-bb95-44e4-efc5-bd0ad6e9db9d"
      },
      "execution_count": 28,
      "outputs": [
        {
          "output_type": "execute_result",
          "data": {
            "text/plain": [
              "['Stasiun Cipete Raya', 'Stasiun Haji Nawi']"
            ]
          },
          "metadata": {},
          "execution_count": 28
        }
      ]
    },
    {
      "cell_type": "code",
      "source": [
        "upper = [i for i, j in totalstat.items() if j == 16]\n",
        "\n",
        "\", \".join(upper[:3])"
      ],
      "metadata": {
        "colab": {
          "base_uri": "https://localhost:8080/",
          "height": 36
        },
        "id": "hKi9UWPRhUc6",
        "outputId": "825eec58-7772-4082-a2c1-9da62b913398"
      },
      "execution_count": 29,
      "outputs": [
        {
          "output_type": "execute_result",
          "data": {
            "text/plain": [
              "'Stasiun Senayan Mastercard, Stasiun Istora Mandiri, Stasiun Bendungan Hilir'"
            ],
            "application/vnd.google.colaboratory.intrinsic+json": {
              "type": "string"
            }
          },
          "metadata": {},
          "execution_count": 29
        }
      ]
    },
    {
      "cell_type": "code",
      "source": [
        "\", \".join(upper[3:])"
      ],
      "metadata": {
        "colab": {
          "base_uri": "https://localhost:8080/",
          "height": 36
        },
        "id": "sqRBKhjOhhef",
        "outputId": "411d1bd9-4804-4a3f-b7c0-203d81a9445d"
      },
      "execution_count": 30,
      "outputs": [
        {
          "output_type": "execute_result",
          "data": {
            "text/plain": [
              "'Stasiun Setiabudi Astra, Stasiun Dukuh Atas BNI, Stasiun Bundaran HI'"
            ],
            "application/vnd.google.colaboratory.intrinsic+json": {
              "type": "string"
            }
          },
          "metadata": {},
          "execution_count": 30
        }
      ]
    },
    {
      "cell_type": "markdown",
      "metadata": {
        "id": "-CC0KKExGF4x"
      },
      "source": [
        "```Jalist```"
      ]
    },
    {
      "cell_type": "code",
      "execution_count": 31,
      "metadata": {
        "colab": {
          "base_uri": "https://localhost:8080/",
          "height": 36
        },
        "id": "YiNeSOaxGTHj",
        "outputId": "49ee52a8-99df-400f-966f-371bc42727ce"
      },
      "outputs": [
        {
          "output_type": "execute_result",
          "data": {
            "text/plain": [
              "'05:15, 05:30'"
            ],
            "application/vnd.google.colaboratory.intrinsic+json": {
              "type": "string"
            }
          },
          "metadata": {},
          "execution_count": 31
        }
      ],
      "source": [
        "jalist = sample[\"jadwal_lb_biasa\"]\n",
        "\n",
        "jalist[:12]"
      ]
    },
    {
      "cell_type": "code",
      "execution_count": 32,
      "metadata": {
        "colab": {
          "base_uri": "https://localhost:8080/"
        },
        "id": "o-MlYlVyGDyM",
        "outputId": "df6a1257-738c-4051-db3d-2b715df552f1"
      },
      "outputs": [
        {
          "output_type": "execute_result",
          "data": {
            "text/plain": [
              "['05:15', '05:30', '05:42']"
            ]
          },
          "metadata": {},
          "execution_count": 32
        }
      ],
      "source": [
        "jasplit = [ja.strip() for ja in jalist.split(\",\")]\n",
        "\n",
        "jasplit[:3]"
      ]
    },
    {
      "cell_type": "code",
      "execution_count": 33,
      "metadata": {
        "colab": {
          "base_uri": "https://localhost:8080/"
        },
        "id": "-emJjVzFJ4qs",
        "outputId": "0a769dcd-a2d6-410f-f286-8b14552b2a2e"
      },
      "outputs": [
        {
          "output_type": "execute_result",
          "data": {
            "text/plain": [
              "{8: 12, 17: 12, 7: 11, 18: 11, 9: 10}"
            ]
          },
          "metadata": {},
          "execution_count": 33
        }
      ],
      "source": [
        "jamly = utili.urutan(utili.jarly(jasplit))\n",
        "\n",
        "utili.limite(jamly, 5)"
      ]
    },
    {
      "cell_type": "code",
      "execution_count": 34,
      "metadata": {
        "colab": {
          "base_uri": "https://localhost:8080/"
        },
        "id": "1k1EeIa-IKHm",
        "outputId": "266a4101-0ce9-4af2-b8b4-021d0e437627"
      },
      "outputs": [
        {
          "output_type": "execute_result",
          "data": {
            "text/plain": [
              "7"
            ]
          },
          "metadata": {},
          "execution_count": 34
        }
      ],
      "source": [
        "utili.janit(jasplit)"
      ]
    },
    {
      "cell_type": "markdown",
      "source": [
        "```0```"
      ],
      "metadata": {
        "id": "O4-xGTkV_WGX"
      }
    },
    {
      "cell_type": "code",
      "source": [
        "jaleno = sample[\"jadwal_lb_biasa\"]\n",
        "\n",
        "jaleno = [ja.strip() for ja in jaleno.split(\",\")]\n",
        "\n",
        "mileno = utili.janit(jaleno)\n",
        "\n",
        "jaleli = sample[\"jadwal_lb_libur\"]\n",
        "\n",
        "jaleli = [ja.strip() for ja in jaleli.split(\",\")]\n",
        "\n",
        "mileli = utili.janit(jaleli)\n",
        "\n",
        "mileno, mileli"
      ],
      "metadata": {
        "colab": {
          "base_uri": "https://localhost:8080/"
        },
        "id": "d7KfosVw_ZIX",
        "outputId": "dcfc49a2-8027-431c-bb41-2aa26cb5b0e6"
      },
      "execution_count": 35,
      "outputs": [
        {
          "output_type": "execute_result",
          "data": {
            "text/plain": [
              "(7, 10)"
            ]
          },
          "metadata": {},
          "execution_count": 35
        }
      ]
    },
    {
      "cell_type": "code",
      "source": [
        "jahino = sample[\"jadwal_hi_biasa\"]\n",
        "\n",
        "jahino = [ja.strip() for ja in jahino.split(\",\")]\n",
        "\n",
        "jahino[81:85]"
      ],
      "metadata": {
        "colab": {
          "base_uri": "https://localhost:8080/"
        },
        "id": "3ydT7sHEAPqA",
        "outputId": "d7ff94ce-437c-44aa-beee-f10a6c697013"
      },
      "execution_count": 36,
      "outputs": [
        {
          "output_type": "execute_result",
          "data": {
            "text/plain": [
              "['15:45', '15:53  16:01', '16:08', '16:14']"
            ]
          },
          "metadata": {},
          "execution_count": 36
        }
      ]
    },
    {
      "cell_type": "code",
      "source": [
        "jahino = utili.imsplit(jahino, 5, \" \")\n",
        "\n",
        "jahino[81:85]"
      ],
      "metadata": {
        "colab": {
          "base_uri": "https://localhost:8080/"
        },
        "id": "uSo8NJ78DYnQ",
        "outputId": "0c4173f7-b4b7-4206-e6b9-1efb21bb0848"
      },
      "execution_count": 37,
      "outputs": [
        {
          "output_type": "execute_result",
          "data": {
            "text/plain": [
              "['15:45', '15:53', '16:01', '16:08']"
            ]
          },
          "metadata": {},
          "execution_count": 37
        }
      ]
    },
    {
      "cell_type": "code",
      "source": [
        "miheno = utili.janit(jahino)\n",
        "\n",
        "jahili = sample[\"jadwal_hi_libur\"]\n",
        "\n",
        "jahili = [ja.strip() for ja in jahili.split(\",\")]\n",
        "\n",
        "mihili = utili.janit(jahili)\n",
        "\n",
        "miheno, mihili"
      ],
      "metadata": {
        "colab": {
          "base_uri": "https://localhost:8080/"
        },
        "id": "VzhPS0w4Of3D",
        "outputId": "62ff8e3e-95ce-464d-d624-4c7fd9565b78"
      },
      "execution_count": 38,
      "outputs": [
        {
          "output_type": "execute_result",
          "data": {
            "text/plain": [
              "(8, 10)"
            ]
          },
          "metadata": {},
          "execution_count": 38
        }
      ]
    },
    {
      "cell_type": "markdown",
      "source": [
        "```Retail```"
      ],
      "metadata": {
        "id": "nUYLm8Rnh2q6"
      }
    },
    {
      "cell_type": "code",
      "source": [
        "retail = sample[\"retails\"]\n",
        "\n",
        "type(retail), len(retail)"
      ],
      "metadata": {
        "id": "GwqiZRBGS0pP",
        "outputId": "49606b89-5450-48f0-a448-01b6a33fc3d4",
        "colab": {
          "base_uri": "https://localhost:8080/"
        }
      },
      "execution_count": 39,
      "outputs": [
        {
          "output_type": "execute_result",
          "data": {
            "text/plain": [
              "(list, 1)"
            ]
          },
          "metadata": {},
          "execution_count": 39
        }
      ]
    },
    {
      "cell_type": "code",
      "source": [
        "retail = sample[\"retails\"][0]\n",
        "\n",
        "type(retail), len(retail), len(retail.keys())"
      ],
      "metadata": {
        "id": "y_W-OjxCTmMg",
        "outputId": "c8e7dbcc-ef77-46dc-9a42-01df6cb20895",
        "colab": {
          "base_uri": "https://localhost:8080/"
        }
      },
      "execution_count": 40,
      "outputs": [
        {
          "output_type": "execute_result",
          "data": {
            "text/plain": [
              "(dict, 5, 5)"
            ]
          },
          "metadata": {},
          "execution_count": 40
        }
      ]
    },
    {
      "cell_type": "code",
      "source": [
        "list(retail.keys())"
      ],
      "metadata": {
        "id": "oDMCGMQqTRei",
        "outputId": "bdfb3670-25b4-4416-d058-49eb6d36ba6f",
        "colab": {
          "base_uri": "https://localhost:8080/"
        }
      },
      "execution_count": 41,
      "outputs": [
        {
          "output_type": "execute_result",
          "data": {
            "text/plain": [
              "['nid', 'title', 'jenis_retail', 'cover', 'path']"
            ]
          },
          "metadata": {},
          "execution_count": 41
        }
      ]
    },
    {
      "cell_type": "code",
      "source": [
        "retail[\"jenis_retail\"], retail[\"title\"]"
      ],
      "metadata": {
        "id": "ifjbL6quTVNn",
        "outputId": "5c276a3c-9bd7-4249-b634-489f5b77d18c",
        "colab": {
          "base_uri": "https://localhost:8080/"
        }
      },
      "execution_count": 42,
      "outputs": [
        {
          "output_type": "execute_result",
          "data": {
            "text/plain": [
              "('retail ', 'HYPR Caffeine')"
            ]
          },
          "metadata": {},
          "execution_count": 42
        }
      ]
    },
    {
      "cell_type": "code",
      "source": [
        "outin = sample[\"fasilitas\"]\n",
        "\n",
        "type(outin), len(outin)"
      ],
      "metadata": {
        "colab": {
          "base_uri": "https://localhost:8080/"
        },
        "id": "xECyPqxdiFmA",
        "outputId": "a35b4b36-7134-47d3-b26a-f83cc1cf072f"
      },
      "execution_count": 43,
      "outputs": [
        {
          "output_type": "execute_result",
          "data": {
            "text/plain": [
              "(list, 2)"
            ]
          },
          "metadata": {},
          "execution_count": 43
        }
      ]
    },
    {
      "cell_type": "code",
      "source": [
        "list(outin[0].keys())"
      ],
      "metadata": {
        "colab": {
          "base_uri": "https://localhost:8080/"
        },
        "id": "yC7wYAjXiNVc",
        "outputId": "50da9395-1763-4326-8803-b1072e6631e1"
      },
      "execution_count": 44,
      "outputs": [
        {
          "output_type": "execute_result",
          "data": {
            "text/plain": [
              "['nid', 'title', 'jenis_fasilitas', 'cover', 'path']"
            ]
          },
          "metadata": {},
          "execution_count": 44
        }
      ]
    },
    {
      "cell_type": "code",
      "source": [
        "outin[0][\"title\"], outin[0][\"jenis_fasilitas\"]"
      ],
      "metadata": {
        "colab": {
          "base_uri": "https://localhost:8080/"
        },
        "id": "CMaHEDGIiRVQ",
        "outputId": "3ea0a1d6-4ec3-4c60-c09d-7e02c1cca878"
      },
      "execution_count": 45,
      "outputs": [
        {
          "output_type": "execute_result",
          "data": {
            "text/plain": [
              "('The Ritz Carlton-Jakarta, Pacific Place', 'Penginapan')"
            ]
          },
          "metadata": {},
          "execution_count": 45
        }
      ]
    },
    {
      "cell_type": "code",
      "source": [
        "outin[1][\"title\"], outin[1][\"jenis_fasilitas\"]"
      ],
      "metadata": {
        "colab": {
          "base_uri": "https://localhost:8080/"
        },
        "id": "4Eva99XKiX6K",
        "outputId": "34ada9db-f2a9-4f11-dd33-f3de1bca127c"
      },
      "execution_count": 46,
      "outputs": [
        {
          "output_type": "execute_result",
          "data": {
            "text/plain": [
              "('Pacific Place', 'Restoran')"
            ]
          },
          "metadata": {},
          "execution_count": 46
        }
      ]
    }
  ],
  "metadata": {
    "colab": {
      "provenance": []
    },
    "kernelspec": {
      "display_name": "Python 3",
      "name": "python3"
    },
    "language_info": {
      "name": "python"
    }
  },
  "nbformat": 4,
  "nbformat_minor": 0
}