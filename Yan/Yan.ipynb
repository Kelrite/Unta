{
  "cells": [
    {
      "cell_type": "code",
      "execution_count": 1,
      "metadata": {
        "id": "64e4NfsqCYMy"
      },
      "outputs": [],
      "source": [
        "import requests, urllib\n",
        "\n",
        "mrturl = \"https://jakartamrt.co.id/id/val/stasiuns\"\n",
        "\n",
        "opener = requests.get(mrturl)\n",
        "\n",
        "opener = opener.json()"
      ]
    },
    {
      "cell_type": "code",
      "execution_count": 2,
      "metadata": {
        "id": "TWcDpSQ4Ldg1",
        "colab": {
          "base_uri": "https://localhost:8080/"
        },
        "outputId": "bde5bb69-d016-4f55-dda7-984183a23930"
      },
      "outputs": [
        {
          "output_type": "execute_result",
          "data": {
            "text/plain": [
              "('utili.py', <http.client.HTTPMessage at 0x7bd1143ec100>)"
            ]
          },
          "metadata": {},
          "execution_count": 2
        }
      ],
      "source": [
        "urler = \"https://raw.githubusercontent.com/Kelrite/Air/master/Yan/Helper.py\"\n",
        "\n",
        "urllib.request.urlretrieve(urler, \"utili.py\")"
      ]
    },
    {
      "cell_type": "code",
      "execution_count": 3,
      "metadata": {
        "colab": {
          "base_uri": "https://localhost:8080/"
        },
        "id": "O9Lc6Y-8FzrC",
        "outputId": "e539f4e8-2ab0-4d73-e98f-4a5e338435a5"
      },
      "outputs": [
        {
          "output_type": "execute_result",
          "data": {
            "text/plain": [
              "13"
            ]
          },
          "metadata": {},
          "execution_count": 3
        }
      ],
      "source": [
        "import utili\n",
        "\n",
        "total = len(opener)\n",
        "\n",
        "total"
      ]
    },
    {
      "cell_type": "code",
      "execution_count": 4,
      "metadata": {
        "colab": {
          "base_uri": "https://localhost:8080/"
        },
        "id": "-hhbc3HDF58A",
        "outputId": "af790de2-f19b-4f60-b236-b48418d8ede2"
      },
      "outputs": [
        {
          "output_type": "execute_result",
          "data": {
            "text/plain": [
              "['nid', 'title', 'urutan', 'isbig', 'path', 'catatan', 'antarmodas']"
            ]
          },
          "metadata": {},
          "execution_count": 4
        }
      ],
      "source": [
        "sample = opener[8]\n",
        "\n",
        "unlock = list(sample.keys())\n",
        "\n",
        "unlock[:7]"
      ]
    },
    {
      "cell_type": "code",
      "execution_count": 5,
      "metadata": {
        "colab": {
          "base_uri": "https://localhost:8080/"
        },
        "id": "_3pmlwWCGAhj",
        "outputId": "eefb9f15-3a8d-46c2-b0ae-9a7da534435d"
      },
      "outputs": [
        {
          "output_type": "execute_result",
          "data": {
            "text/plain": [
              "['peta_lokalitas', 'jadwal_lb_biasa', 'jadwal_lb_libur', 'jadwal_hi_biasa']"
            ]
          },
          "metadata": {},
          "execution_count": 5
        }
      ],
      "source": [
        "unlock[7:11]"
      ]
    },
    {
      "cell_type": "code",
      "execution_count": 6,
      "metadata": {
        "colab": {
          "base_uri": "https://localhost:8080/"
        },
        "id": "coSIduQRGBus",
        "outputId": "b0710e5a-4a1f-41b2-ef77-6450f4104953"
      },
      "outputs": [
        {
          "output_type": "execute_result",
          "data": {
            "text/plain": [
              "['jadwal_hi_libur', 'banner', 'retails', 'estimasi', 'fasilitas']"
            ]
          },
          "metadata": {},
          "execution_count": 6
        }
      ],
      "source": [
        "unlock[11:]"
      ]
    },
    {
      "cell_type": "code",
      "execution_count": 7,
      "metadata": {
        "colab": {
          "base_uri": "https://localhost:8080/",
          "height": 36
        },
        "id": "MeFXjLIDH_mR",
        "outputId": "a5a0550f-5727-4ace-ff20-2501dac11585"
      },
      "outputs": [
        {
          "output_type": "execute_result",
          "data": {
            "text/plain": [
              "'Stasiun Istora Mandiri'"
            ],
            "application/vnd.google.colaboratory.intrinsic+json": {
              "type": "string"
            }
          },
          "metadata": {},
          "execution_count": 7
        }
      ],
      "source": [
        "title = sample[\"title\"]\n",
        "\n",
        "title"
      ]
    },
    {
      "cell_type": "code",
      "execution_count": 8,
      "metadata": {
        "colab": {
          "base_uri": "https://localhost:8080/"
        },
        "id": "0pEvg766IMPv",
        "outputId": "5eae5fe0-bdc3-4c29-f7aa-773ada34af85"
      },
      "outputs": [
        {
          "output_type": "execute_result",
          "data": {
            "text/plain": [
              "3"
            ]
          },
          "metadata": {},
          "execution_count": 8
        }
      ],
      "source": [
        "outsize = [int(opener[i][\"isbig\"]) for i in range(total)]\n",
        "\n",
        "outsize = sum(outsize)\n",
        "\n",
        "outsize"
      ]
    },
    {
      "cell_type": "markdown",
      "metadata": {
        "id": "bm7zbGfo-S_d"
      },
      "source": [
        "```Mota```"
      ]
    },
    {
      "cell_type": "code",
      "execution_count": 9,
      "metadata": {
        "colab": {
          "base_uri": "https://localhost:8080/"
        },
        "id": "Yp1FY_fK_LwA",
        "outputId": "b6cadc5e-7e78-4ca3-c00f-fa92a7959956"
      },
      "outputs": [
        {
          "output_type": "execute_result",
          "data": {
            "text/plain": [
              "str"
            ]
          },
          "metadata": {},
          "execution_count": 9
        }
      ],
      "source": [
        "type(sample[\"antarmodas\"])"
      ]
    },
    {
      "cell_type": "code",
      "execution_count": 10,
      "metadata": {
        "colab": {
          "base_uri": "https://localhost:8080/",
          "height": 36
        },
        "id": "w5W1tBG7_1mj",
        "outputId": "c59872da-a0f0-4577-b2b9-11d6f0ffa26a"
      },
      "outputs": [
        {
          "output_type": "execute_result",
          "data": {
            "text/plain": [
              "'Transjakarta Koridor 1, 4C, 6M, 9C, T11, S21, BW4, GR1'"
            ],
            "application/vnd.google.colaboratory.intrinsic+json": {
              "type": "string"
            }
          },
          "metadata": {},
          "execution_count": 10
        }
      ],
      "source": [
        "mota = utili.ansplit(sample[\"antarmodas\"])\n",
        "\n",
        "mota[0]"
      ]
    },
    {
      "cell_type": "code",
      "execution_count": 11,
      "metadata": {
        "colab": {
          "base_uri": "https://localhost:8080/",
          "height": 36
        },
        "id": "6jjsOmxODTaJ",
        "outputId": "c06196fc-0bca-4cbd-a0d1-e8e76061e022"
      },
      "outputs": [
        {
          "output_type": "execute_result",
          "data": {
            "text/plain": [
              "'Metromini P15, S640'"
            ],
            "application/vnd.google.colaboratory.intrinsic+json": {
              "type": "string"
            }
          },
          "metadata": {},
          "execution_count": 11
        }
      ],
      "source": [
        "mota[1]"
      ]
    },
    {
      "cell_type": "code",
      "execution_count": 12,
      "metadata": {
        "colab": {
          "base_uri": "https://localhost:8080/",
          "height": 36
        },
        "id": "xMIcrMCbDUmU",
        "outputId": "777760ed-645d-48a3-adf9-c5a8b0064ae4"
      },
      "outputs": [
        {
          "output_type": "execute_result",
          "data": {
            "text/plain": [
              "'APB JP03A'"
            ],
            "application/vnd.google.colaboratory.intrinsic+json": {
              "type": "string"
            }
          },
          "metadata": {},
          "execution_count": 12
        }
      ],
      "source": [
        "mota[2]"
      ]
    },
    {
      "cell_type": "code",
      "execution_count": 13,
      "metadata": {
        "colab": {
          "base_uri": "https://localhost:8080/",
          "height": 36
        },
        "id": "x-tdNmwxAIvj",
        "outputId": "48513ff0-e4e0-406b-fdf2-d69bcc2daaca"
      },
      "outputs": [
        {
          "output_type": "execute_result",
          "data": {
            "text/plain": [
              "'Transjakarta'"
            ],
            "application/vnd.google.colaboratory.intrinsic+json": {
              "type": "string"
            }
          },
          "metadata": {},
          "execution_count": 13
        }
      ],
      "source": [
        "moti = utili.titler(mota)\n",
        "\n",
        "moti = utili.replator(moti)\n",
        "\n",
        "moti[0]"
      ]
    },
    {
      "cell_type": "code",
      "source": [
        "moti[1:3]"
      ],
      "metadata": {
        "colab": {
          "base_uri": "https://localhost:8080/"
        },
        "id": "PpgkN6hI-JwW",
        "outputId": "a7178127-cff6-48f8-dc7a-dc4c1a889030"
      },
      "execution_count": 14,
      "outputs": [
        {
          "output_type": "execute_result",
          "data": {
            "text/plain": [
              "['Metromini', 'APB']"
            ]
          },
          "metadata": {},
          "execution_count": 14
        }
      ]
    },
    {
      "cell_type": "code",
      "source": [
        "moti[3:6]"
      ],
      "metadata": {
        "colab": {
          "base_uri": "https://localhost:8080/"
        },
        "id": "LbLzoooU-ajX",
        "outputId": "a88914eb-595b-4512-89c7-867b7ed0fef1"
      },
      "execution_count": 15,
      "outputs": [
        {
          "output_type": "execute_result",
          "data": {
            "text/plain": [
              "['PPD', 'Kopaja', 'Mayasari Bakti']"
            ]
          },
          "metadata": {},
          "execution_count": 15
        }
      ]
    },
    {
      "cell_type": "code",
      "execution_count": 16,
      "metadata": {
        "colab": {
          "base_uri": "https://localhost:8080/"
        },
        "id": "g-qJtT3qDAPE",
        "outputId": "fc8c39c5-f336-47cd-90e9-12fc903c65ae"
      },
      "outputs": [
        {
          "output_type": "execute_result",
          "data": {
            "text/plain": [
              "{'Transjakarta': 8, 'Metromini': 2, 'APB': 1}"
            ]
          },
          "metadata": {},
          "execution_count": 16
        }
      ],
      "source": [
        "singleti = {moti[i]: len(mota[i].split(\",\")) for i in range(len(moti))}\n",
        "\n",
        "utili.limite(singleti, 3)"
      ]
    },
    {
      "cell_type": "code",
      "execution_count": 17,
      "metadata": {
        "colab": {
          "base_uri": "https://localhost:8080/"
        },
        "id": "noCXOD3NHduF",
        "outputId": "14746253-70f9-4a4c-b97c-e917fc0150e1"
      },
      "outputs": [
        {
          "output_type": "execute_result",
          "data": {
            "text/plain": [
              "16"
            ]
          },
          "metadata": {},
          "execution_count": 17
        }
      ],
      "source": [
        "len(singleti.keys())"
      ]
    },
    {
      "cell_type": "code",
      "execution_count": 18,
      "metadata": {
        "colab": {
          "base_uri": "https://localhost:8080/"
        },
        "id": "6xdMx7lxEMcQ",
        "outputId": "5bd19160-d772-4a20-eeb9-014ab960cf0f"
      },
      "outputs": [
        {
          "output_type": "execute_result",
          "data": {
            "text/plain": [
              "52"
            ]
          },
          "metadata": {},
          "execution_count": 18
        }
      ],
      "source": [
        "sum(singleti.values())"
      ]
    },
    {
      "cell_type": "markdown",
      "metadata": {
        "id": "-CC0KKExGF4x"
      },
      "source": [
        "```Jalist```"
      ]
    },
    {
      "cell_type": "code",
      "execution_count": 19,
      "metadata": {
        "colab": {
          "base_uri": "https://localhost:8080/",
          "height": 36
        },
        "id": "YiNeSOaxGTHj",
        "outputId": "03ccc0cf-83eb-4842-d814-4b22c3cfebad"
      },
      "outputs": [
        {
          "output_type": "execute_result",
          "data": {
            "text/plain": [
              "'05:15, 05:30'"
            ],
            "application/vnd.google.colaboratory.intrinsic+json": {
              "type": "string"
            }
          },
          "metadata": {},
          "execution_count": 19
        }
      ],
      "source": [
        "jalist = sample[\"jadwal_lb_biasa\"]\n",
        "\n",
        "jalist[:12]"
      ]
    },
    {
      "cell_type": "code",
      "execution_count": 20,
      "metadata": {
        "colab": {
          "base_uri": "https://localhost:8080/"
        },
        "id": "o-MlYlVyGDyM",
        "outputId": "8ca18378-d4d4-450b-8bc2-695a98ab76b8"
      },
      "outputs": [
        {
          "output_type": "execute_result",
          "data": {
            "text/plain": [
              "['05:15', '05:30', '05:42']"
            ]
          },
          "metadata": {},
          "execution_count": 20
        }
      ],
      "source": [
        "jasplit = [ja.strip() for ja in jalist.split(\",\")]\n",
        "\n",
        "jasplit[:3]"
      ]
    },
    {
      "cell_type": "code",
      "execution_count": 21,
      "metadata": {
        "colab": {
          "base_uri": "https://localhost:8080/"
        },
        "id": "-emJjVzFJ4qs",
        "outputId": "37d8d3d3-f0f1-4453-c326-2553cd512e8f"
      },
      "outputs": [
        {
          "output_type": "execute_result",
          "data": {
            "text/plain": [
              "{8: 12, 17: 12, 7: 11, 18: 11, 9: 10}"
            ]
          },
          "metadata": {},
          "execution_count": 21
        }
      ],
      "source": [
        "jamly = utili.urutan(utili.jarly(jasplit))\n",
        "\n",
        "utili.limite(jamly, 5)"
      ]
    },
    {
      "cell_type": "code",
      "execution_count": 22,
      "metadata": {
        "colab": {
          "base_uri": "https://localhost:8080/"
        },
        "id": "1k1EeIa-IKHm",
        "outputId": "262a0ae2-0156-49a2-df59-5431c72144ea"
      },
      "outputs": [
        {
          "output_type": "execute_result",
          "data": {
            "text/plain": [
              "7"
            ]
          },
          "metadata": {},
          "execution_count": 22
        }
      ],
      "source": [
        "utili.janit(jasplit)"
      ]
    },
    {
      "cell_type": "markdown",
      "source": [
        "```0```"
      ],
      "metadata": {
        "id": "O4-xGTkV_WGX"
      }
    },
    {
      "cell_type": "code",
      "source": [
        "jaleno = sample[\"jadwal_lb_biasa\"]\n",
        "\n",
        "jaleno = [ja.strip() for ja in jaleno.split(\",\")]\n",
        "\n",
        "mileno = utili.janit(jaleno)\n",
        "\n",
        "jaleli = sample[\"jadwal_lb_libur\"]\n",
        "\n",
        "jaleli = [ja.strip() for ja in jaleli.split(\",\")]\n",
        "\n",
        "mileli = utili.janit(jaleli)\n",
        "\n",
        "mileno, mileli"
      ],
      "metadata": {
        "colab": {
          "base_uri": "https://localhost:8080/"
        },
        "id": "d7KfosVw_ZIX",
        "outputId": "f7b1d2ce-66ad-4e92-cb7c-3054e80129f0"
      },
      "execution_count": 23,
      "outputs": [
        {
          "output_type": "execute_result",
          "data": {
            "text/plain": [
              "(7, 10)"
            ]
          },
          "metadata": {},
          "execution_count": 23
        }
      ]
    },
    {
      "cell_type": "code",
      "source": [
        "jahino = sample[\"jadwal_hi_biasa\"]\n",
        "\n",
        "jahino = [ja.strip() for ja in jahino.split(\",\")]\n",
        "\n",
        "jahino[81:85]"
      ],
      "metadata": {
        "colab": {
          "base_uri": "https://localhost:8080/"
        },
        "id": "3ydT7sHEAPqA",
        "outputId": "bee69a52-b5a4-4bce-b581-a73b5ba1675b"
      },
      "execution_count": 24,
      "outputs": [
        {
          "output_type": "execute_result",
          "data": {
            "text/plain": [
              "['15:45', '15:53  16:01', '16:08', '16:14']"
            ]
          },
          "metadata": {},
          "execution_count": 24
        }
      ]
    },
    {
      "cell_type": "code",
      "source": [
        "jahino = utili.imsplit(jahino, 5, \" \")\n",
        "\n",
        "jahino[81:85]"
      ],
      "metadata": {
        "colab": {
          "base_uri": "https://localhost:8080/"
        },
        "id": "uSo8NJ78DYnQ",
        "outputId": "a3494035-0727-4ec9-acd4-2d9a6a3d119b"
      },
      "execution_count": 25,
      "outputs": [
        {
          "output_type": "execute_result",
          "data": {
            "text/plain": [
              "['15:45', '15:53', '16:01', '16:08']"
            ]
          },
          "metadata": {},
          "execution_count": 25
        }
      ]
    },
    {
      "cell_type": "code",
      "source": [
        "miheno = utili.janit(jahino)\n",
        "\n",
        "jahili = sample[\"jadwal_hi_libur\"]\n",
        "\n",
        "jahili = [ja.strip() for ja in jahili.split(\",\")]\n",
        "\n",
        "mihili = utili.janit(jahili)\n",
        "\n",
        "miheno, mihili"
      ],
      "metadata": {
        "colab": {
          "base_uri": "https://localhost:8080/"
        },
        "id": "VzhPS0w4Of3D",
        "outputId": "611815ca-2145-4863-8976-97ed366141d4"
      },
      "execution_count": 26,
      "outputs": [
        {
          "output_type": "execute_result",
          "data": {
            "text/plain": [
              "(8, 10)"
            ]
          },
          "metadata": {},
          "execution_count": 26
        }
      ]
    }
  ],
  "metadata": {
    "colab": {
      "provenance": []
    },
    "kernelspec": {
      "display_name": "Python 3",
      "name": "python3"
    },
    "language_info": {
      "name": "python"
    }
  },
  "nbformat": 4,
  "nbformat_minor": 0
}