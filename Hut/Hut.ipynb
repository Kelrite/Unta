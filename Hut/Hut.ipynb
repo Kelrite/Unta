{
  "nbformat": 4,
  "nbformat_minor": 0,
  "metadata": {
    "colab": {
      "provenance": [],
      "gpuType": "T4"
    },
    "kernelspec": {
      "name": "python3",
      "display_name": "Python 3"
    },
    "language_info": {
      "name": "python"
    },
    "accelerator": "GPU"
  },
  "cells": [
    {
      "cell_type": "code",
      "execution_count": 1,
      "metadata": {
        "id": "ACwWmzAL1xPf"
      },
      "outputs": [],
      "source": [
        "import tensorflow as tf\n",
        "\n",
        "import os, warnings, urllib\n",
        "\n",
        "urli = \"https://github.com/dicodingacademy/assets/releases/download/release/rockpaperscissors.zip\""
      ]
    },
    {
      "cell_type": "code",
      "source": [
        "murl = \"https://raw.githubusercontent.com/Kelrite/Air/master/Hut\"\n",
        "\n",
        "model = os.path.join(murl, \"Modeler.py\")\n",
        "\n",
        "urllib.request.urlretrieve(model, \"modeler.py\")\n",
        "\n",
        "helplot = os.path.join(murl, \"Helplot.py\")\n",
        "\n",
        "urllib.request.urlretrieve(helplot, \"helplot.py\")"
      ],
      "metadata": {
        "id": "E12dUV191yeC"
      },
      "execution_count": null,
      "outputs": []
    },
    {
      "cell_type": "code",
      "source": [
        "import tensorflow as tf\n",
        "\n",
        "import tensorflow.keras.utils as utils\n",
        "\n",
        "ontrue = !False\n",
        "\n",
        "utils.get_file(origin=urli, cache_dir=\"/tmp\", extract=ontrue)"
      ],
      "metadata": {
        "id": "DGIwls0g12_V"
      },
      "execution_count": null,
      "outputs": []
    },
    {
      "cell_type": "code",
      "source": [
        "rooter = \"/tmp/datasets/rockpaperscissors/rps-cv-images\"\n",
        "\n",
        "os.listdir(rooter)"
      ],
      "metadata": {
        "colab": {
          "base_uri": "https://localhost:8080/"
        },
        "id": "uvQdGs8e18zB",
        "outputId": "f5184d3c-5705-483f-b88f-c746ba0425aa"
      },
      "execution_count": 4,
      "outputs": [
        {
          "output_type": "execute_result",
          "data": {
            "text/plain": [
              "['paper', 'scissors', 'README_rpc-cv-images.txt', 'rock']"
            ]
          },
          "metadata": {},
          "execution_count": 4
        }
      ]
    },
    {
      "cell_type": "code",
      "source": [
        "os.remove(os.path.join(rooter, os.listdir(rooter)[2]))\n",
        "\n",
        "os.listdir(rooter)"
      ],
      "metadata": {
        "colab": {
          "base_uri": "https://localhost:8080/"
        },
        "id": "4F9evaxm2FFJ",
        "outputId": "06d6c4d1-03c0-4cd6-9625-8f7f52d2f853"
      },
      "execution_count": 5,
      "outputs": [
        {
          "output_type": "execute_result",
          "data": {
            "text/plain": [
              "['paper', 'scissors', 'rock']"
            ]
          },
          "metadata": {},
          "execution_count": 5
        }
      ]
    },
    {
      "cell_type": "code",
      "source": [
        "image = (150, 150); split = 0.3; random = 128\n",
        "\n",
        "unseet = 10; subset = \"both\"\n",
        "\n",
        "orifile = utils.image_dataset_from_directory(\n",
        "  rooter,\n",
        "  seed = unseet,\n",
        "  subset = subset,\n",
        "  image_size = image,\n",
        "  batch_size = random,\n",
        "  validation_split = split\n",
        ")\n",
        "\n",
        "train, testi = orifile"
      ],
      "metadata": {
        "id": "Knp_YzN_2KUS"
      },
      "execution_count": null,
      "outputs": []
    },
    {
      "cell_type": "code",
      "source": [
        "labeler = train.class_names\n",
        "\n",
        "labeler"
      ],
      "metadata": {
        "colab": {
          "base_uri": "https://localhost:8080/"
        },
        "id": "9wWadvj12Nqg",
        "outputId": "704c3529-4826-4362-b333-0401d6905478"
      },
      "execution_count": 7,
      "outputs": [
        {
          "output_type": "execute_result",
          "data": {
            "text/plain": [
              "['paper', 'rock', 'scissors']"
            ]
          },
          "metadata": {},
          "execution_count": 7
        }
      ]
    },
    {
      "cell_type": "code",
      "source": [
        "def relater(image, label):\n",
        "  image = tf.math.divide(image, 255.0)\n",
        "  image = tf.cast(image, tf.float32)\n",
        "  return image, label\n",
        "\n",
        "train = train.map(relater).shuffle(1500).cache().prefetch(1)\n",
        "\n",
        "testi = testi.map(relater)"
      ],
      "metadata": {
        "id": "leD3npv82RSv"
      },
      "execution_count": 8,
      "outputs": []
    },
    {
      "cell_type": "code",
      "source": [
        "import modeler\n",
        "\n",
        "imager = modeler.Helper()\n",
        "\n",
        "train = train.map(lambda i, l : (imager(i), l))\n",
        "\n",
        "testi = testi.map(lambda i, l : (imager(i), l))"
      ],
      "metadata": {
        "id": "x1L2te762S2p"
      },
      "execution_count": 9,
      "outputs": []
    },
    {
      "cell_type": "code",
      "source": [
        "model = modeler.Hantu()\n",
        "\n",
        "loss = \"SparseCategoricalCrossentropy\"\n",
        "\n",
        "model.compile(optimizer=\"adam\", loss=loss, metrics=[\"accuracy\"])"
      ],
      "metadata": {
        "id": "SKsDrlmE2XYx"
      },
      "execution_count": 10,
      "outputs": []
    },
    {
      "cell_type": "code",
      "source": [
        "from tensorflow.keras.callbacks import Callback, EarlyStopping\n",
        "\n",
        "class Matrit(Callback):\n",
        "  def on_epoch_end(self, epoch, logs=None):\n",
        "    if logs.get(\"accuracy\") >= 0.85 and logs.get(\"val_accuracy\") >= 0.85:\n",
        "      self.model.stop_training = ontrue\n",
        "\n",
        "callbacks = Matrit()\n",
        "\n",
        "stopper = EarlyStopping(monitor=\"val_loss\", patience=3)"
      ],
      "metadata": {
        "id": "n7v9Pi9P2ath"
      },
      "execution_count": 11,
      "outputs": []
    },
    {
      "cell_type": "code",
      "source": [
        "epochs = 18\n",
        "\n",
        "callbacks = [callbacks, stopper]\n",
        "\n",
        "plot = model.fit(train, validation_data=testi, epochs=epochs, callbacks=callbacks)"
      ],
      "metadata": {
        "id": "f-YIgng62gWA"
      },
      "execution_count": null,
      "outputs": []
    },
    {
      "cell_type": "code",
      "source": [
        "model.evaluate(train, verbose=0)"
      ],
      "metadata": {
        "colab": {
          "base_uri": "https://localhost:8080/"
        },
        "id": "EnvUlzi-9rZ9",
        "outputId": "8bdd5ced-3e7b-4312-8899-49c0aa30e7f3"
      },
      "execution_count": 13,
      "outputs": [
        {
          "output_type": "execute_result",
          "data": {
            "text/plain": [
              "[0.3193652331829071, 0.8942558765411377]"
            ]
          },
          "metadata": {},
          "execution_count": 13
        }
      ]
    },
    {
      "cell_type": "code",
      "source": [
        "model.evaluate(testi, verbose=0)"
      ],
      "metadata": {
        "colab": {
          "base_uri": "https://localhost:8080/"
        },
        "id": "64uyfGRr9uE6",
        "outputId": "05627731-2cfe-4f9b-94fd-6f26baf7a2da"
      },
      "execution_count": 14,
      "outputs": [
        {
          "output_type": "execute_result",
          "data": {
            "text/plain": [
              "[0.3499504029750824, 0.8978658318519592]"
            ]
          },
          "metadata": {},
          "execution_count": 14
        }
      ]
    },
    {
      "cell_type": "code",
      "source": [
        "import helplot\n",
        "\n",
        "plot = helplot.Helplot(plot)\n",
        "\n",
        "plot.trainplot"
      ],
      "metadata": {
        "colab": {
          "base_uri": "https://localhost:8080/",
          "height": 528
        },
        "id": "xxPu5ePH91p5",
        "outputId": "a7f4764c-a8c1-4d61-a2a6-d3a574e7ac28"
      },
      "execution_count": 15,
      "outputs": [
        {
          "output_type": "display_data",
          "data": {
            "text/plain": [
              "<Figure size 1000x500 with 2 Axes>"
            ],
            "image/png": "[encoded data removed]"
          },
          "metadata": {}
        }
      ]
    },
    {
      "cell_type": "code",
      "source": [
        "plot.testiplot"
      ],
      "metadata": {
        "colab": {
          "base_uri": "https://localhost:8080/",
          "height": 528
        },
        "id": "bys3-uCt950k",
        "outputId": "5aa731f8-1201-4a6c-b7ba-bb2bff3acb42"
      },
      "execution_count": 16,
      "outputs": [
        {
          "output_type": "display_data",
          "data": {
            "text/plain": [
              "<Figure size 1000x500 with 2 Axes>"
            ],
            "image/png": "[encoded data removed]"
          },
          "metadata": {}
        }
      ]
    },
    {
      "cell_type": "code",
      "source": [
        "import os\n",
        "\n",
        "molder = \"/content/model\"\n",
        "\n",
        "tf.saved_model.save(model, molder)"
      ],
      "metadata": {
        "id": "oTbjJn4p-EBj"
      },
      "execution_count": 17,
      "outputs": []
    },
    {
      "cell_type": "code",
      "source": [
        "meta = lambda filepath : os.path.getsize(filepath) / float(2**20)"
      ],
      "metadata": {
        "id": "pmSyVa-U-Ieh"
      },
      "execution_count": 18,
      "outputs": []
    },
    {
      "cell_type": "code",
      "source": [
        "import tensorflow as tf\n",
        "\n",
        "tflite = tf.lite.TFLiteConverter\n",
        "\n",
        "tflite_model = tflite.from_saved_model(molder)"
      ],
      "metadata": {
        "id": "rTbzS2KY-N55"
      },
      "execution_count": 19,
      "outputs": []
    },
    {
      "cell_type": "code",
      "source": [
        "optim = [tf.lite.Optimize.DEFAULT]\n",
        "\n",
        "tflite_model.optimizations = optim"
      ],
      "metadata": {
        "id": "Tr_gM1za-Sz9"
      },
      "execution_count": 20,
      "outputs": []
    },
    {
      "cell_type": "code",
      "source": [
        "optim = [tf.lite.Optimize.DEFAULT]\n",
        "\n",
        "tflite_model.optimizations = optim"
      ],
      "metadata": {
        "id": "AmTAG2nm-VMs"
      },
      "execution_count": 21,
      "outputs": []
    },
    {
      "cell_type": "code",
      "source": [
        "import pathlib\n",
        "\n",
        "tflite_model = tflite_model.convert()\n",
        "\n",
        "tflite_model_file = pathlib.Path(\"modelite.tflite\")\n",
        "\n",
        "tflite_model_file.write_bytes(tflite_model)"
      ],
      "metadata": {
        "colab": {
          "base_uri": "https://localhost:8080/"
        },
        "id": "mB9ZHWwk-XUk",
        "outputId": "39581f71-335b-42ba-fa42-ff850488c0de"
      },
      "execution_count": 22,
      "outputs": [
        {
          "output_type": "execute_result",
          "data": {
            "text/plain": [
              "1435976"
            ]
          },
          "metadata": {},
          "execution_count": 22
        }
      ]
    },
    {
      "cell_type": "code",
      "source": [
        "round(meta(\"/content/modelite.tflite\"), 3)"
      ],
      "metadata": {
        "colab": {
          "base_uri": "https://localhost:8080/"
        },
        "id": "IrrJB-OT-Zgi",
        "outputId": "4d23dc73-32ea-460e-f253-0fcdafc70e65"
      },
      "execution_count": 23,
      "outputs": [
        {
          "output_type": "execute_result",
          "data": {
            "text/plain": [
              "1.369"
            ]
          },
          "metadata": {},
          "execution_count": 23
        }
      ]
    },
    {
      "cell_type": "code",
      "source": [
        "interpreter = tf.lite.Interpreter(model_path=\"/content/modelite.tflite\")\n",
        "\n",
        "interpreter.get_signature_list()"
      ],
      "metadata": {
        "colab": {
          "base_uri": "https://localhost:8080/"
        },
        "id": "gSETxggv-c99",
        "outputId": "37672d45-e8c9-4367-fab1-6f92912c063c"
      },
      "execution_count": 24,
      "outputs": [
        {
          "output_type": "execute_result",
          "data": {
            "text/plain": [
              "{'serving_default': {'inputs': ['input_1'], 'outputs': ['output_1']}}"
            ]
          },
          "metadata": {},
          "execution_count": 24
        }
      ]
    },
    {
      "cell_type": "code",
      "source": [
        "clasilite = interpreter.get_signature_runner('serving_default')\n",
        "\n",
        "clasilite"
      ],
      "metadata": {
        "colab": {
          "base_uri": "https://localhost:8080/"
        },
        "id": "0Bg_OcSv-i3m",
        "outputId": "645c9a07-0333-4f90-f7b7-929390a87bc2"
      },
      "execution_count": 25,
      "outputs": [
        {
          "output_type": "execute_result",
          "data": {
            "text/plain": [
              "<tensorflow.lite.python.interpreter.SignatureRunner at 0x7f00e6ff2320>"
            ]
          },
          "metadata": {},
          "execution_count": 25
        }
      ]
    },
    {
      "cell_type": "code",
      "source": [
        "paper = \"/tmp/datasets/rockpaperscissors/paper\"\n",
        "\n",
        "patest = os.path.join(paper, os.listdir(paper)[0])\n",
        "\n",
        "patest"
      ],
      "metadata": {
        "colab": {
          "base_uri": "https://localhost:8080/",
          "height": 36
        },
        "id": "j0bLa--0-tok",
        "outputId": "a5fbc60a-84e9-4504-c807-b29f4fbf68fd"
      },
      "execution_count": 26,
      "outputs": [
        {
          "output_type": "execute_result",
          "data": {
            "text/plain": [
              "'/tmp/datasets/rockpaperscissors/paper/6wuALDd920vZ0qZE.png'"
            ],
            "application/vnd.google.colaboratory.intrinsic+json": {
              "type": "string"
            }
          },
          "metadata": {},
          "execution_count": 26
        }
      ]
    },
    {
      "cell_type": "code",
      "source": [
        "i = utils.load_img(patest, target_size=(150, 150))\n",
        "\n",
        "i = utils.img_to_array(i)\n",
        "\n",
        "i = tf.expand_dims(i, axis=0)\n",
        "\n",
        "i = tf.cast(i / 255.0, tf.float32)\n",
        "\n",
        "reclat = clasilite(input_1=i)['output_1']\n",
        "\n",
        "reclat"
      ],
      "metadata": {
        "colab": {
          "base_uri": "https://localhost:8080/"
        },
        "id": "qUMrsdzV-_ze",
        "outputId": "71a28cd9-d259-4e8f-f054-a4c79c43fb9c"
      },
      "execution_count": 29,
      "outputs": [
        {
          "output_type": "execute_result",
          "data": {
            "text/plain": [
              "array([[0.95389813, 0.04307752, 0.00302428]], dtype=float32)"
            ]
          },
          "metadata": {},
          "execution_count": 29
        }
      ]
    },
    {
      "cell_type": "code",
      "source": [
        "labeler[tf.math.argmax(reclat[0])]"
      ],
      "metadata": {
        "colab": {
          "base_uri": "https://localhost:8080/",
          "height": 36
        },
        "id": "Z3Uw_rt2_L3_",
        "outputId": "c57ed71c-c88c-49e7-ec07-b1799ecd07af"
      },
      "execution_count": 31,
      "outputs": [
        {
          "output_type": "execute_result",
          "data": {
            "text/plain": [
              "'paper'"
            ],
            "application/vnd.google.colaboratory.intrinsic+json": {
              "type": "string"
            }
          },
          "metadata": {},
          "execution_count": 31
        }
      ]
    }
  ]
}